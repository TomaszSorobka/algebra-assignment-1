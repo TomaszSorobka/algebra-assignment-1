{
 "cells": [
  {
   "cell_type": "code",
   "execution_count": 1,
   "id": "fffdbcb8",
   "metadata": {},
   "outputs": [],
   "source": [
    "import pandas as pd\n",
    "import numpy as np\n",
    "from math import pi"
   ]
  },
  {
   "cell_type": "code",
   "execution_count": 2,
   "id": "64b6d4c7",
   "metadata": {},
   "outputs": [
    {
     "data": {
      "text/html": [
       "<div>\n",
       "<style scoped>\n",
       "    .dataframe tbody tr th:only-of-type {\n",
       "        vertical-align: middle;\n",
       "    }\n",
       "\n",
       "    .dataframe tbody tr th {\n",
       "        vertical-align: top;\n",
       "    }\n",
       "\n",
       "    .dataframe thead th {\n",
       "        text-align: right;\n",
       "    }\n",
       "</style>\n",
       "<table border=\"1\" class=\"dataframe\">\n",
       "  <thead>\n",
       "    <tr style=\"text-align: right;\">\n",
       "      <th></th>\n",
       "      <th>Unnamed: 0</th>\n",
       "      <th>Maciej Garbacz</th>\n",
       "      <th>Maciej Bober</th>\n",
       "      <th>Tomasz Soróbka</th>\n",
       "      <th>Greta Slivinskaitė</th>\n",
       "      <th>Łukasz Graff</th>\n",
       "      <th>Paula Wołkowska</th>\n",
       "    </tr>\n",
       "  </thead>\n",
       "  <tbody>\n",
       "    <tr>\n",
       "      <th>0</th>\n",
       "      <td>Mathematics</td>\n",
       "      <td>1</td>\n",
       "      <td>1</td>\n",
       "      <td>0</td>\n",
       "      <td>0</td>\n",
       "      <td>2</td>\n",
       "      <td>1</td>\n",
       "    </tr>\n",
       "    <tr>\n",
       "      <th>1</th>\n",
       "      <td>Electrical Engineering</td>\n",
       "      <td>2</td>\n",
       "      <td>0</td>\n",
       "      <td>1</td>\n",
       "      <td>-2</td>\n",
       "      <td>-1</td>\n",
       "      <td>1</td>\n",
       "    </tr>\n",
       "    <tr>\n",
       "      <th>2</th>\n",
       "      <td>Mechanical Engineering</td>\n",
       "      <td>1</td>\n",
       "      <td>2</td>\n",
       "      <td>0</td>\n",
       "      <td>0</td>\n",
       "      <td>-2</td>\n",
       "      <td>-1</td>\n",
       "    </tr>\n",
       "    <tr>\n",
       "      <th>3</th>\n",
       "      <td>Industrial Design</td>\n",
       "      <td>-2</td>\n",
       "      <td>-2</td>\n",
       "      <td>1</td>\n",
       "      <td>1</td>\n",
       "      <td>0</td>\n",
       "      <td>0</td>\n",
       "    </tr>\n",
       "    <tr>\n",
       "      <th>4</th>\n",
       "      <td>Biomedical Engineering</td>\n",
       "      <td>0</td>\n",
       "      <td>1</td>\n",
       "      <td>-1</td>\n",
       "      <td>1</td>\n",
       "      <td>2</td>\n",
       "      <td>-1</td>\n",
       "    </tr>\n",
       "    <tr>\n",
       "      <th>5</th>\n",
       "      <td>Business</td>\n",
       "      <td>-1</td>\n",
       "      <td>1</td>\n",
       "      <td>1</td>\n",
       "      <td>0</td>\n",
       "      <td>0</td>\n",
       "      <td>1</td>\n",
       "    </tr>\n",
       "    <tr>\n",
       "      <th>6</th>\n",
       "      <td>Psychology</td>\n",
       "      <td>-2</td>\n",
       "      <td>-2</td>\n",
       "      <td>-1</td>\n",
       "      <td>1</td>\n",
       "      <td>1</td>\n",
       "      <td>-1</td>\n",
       "    </tr>\n",
       "    <tr>\n",
       "      <th>7</th>\n",
       "      <td>Physics</td>\n",
       "      <td>1</td>\n",
       "      <td>1</td>\n",
       "      <td>-1</td>\n",
       "      <td>1</td>\n",
       "      <td>1</td>\n",
       "      <td>1</td>\n",
       "    </tr>\n",
       "  </tbody>\n",
       "</table>\n",
       "</div>"
      ],
      "text/plain": [
       "               Unnamed: 0  Maciej Garbacz  Maciej Bober  Tomasz Soróbka  \\\n",
       "0             Mathematics               1             1               0   \n",
       "1  Electrical Engineering               2             0               1   \n",
       "2  Mechanical Engineering               1             2               0   \n",
       "3       Industrial Design              -2            -2               1   \n",
       "4  Biomedical Engineering               0             1              -1   \n",
       "5                Business              -1             1               1   \n",
       "6              Psychology              -2            -2              -1   \n",
       "7                 Physics               1             1              -1   \n",
       "\n",
       "   Greta Slivinskaitė  Łukasz Graff  Paula Wołkowska  \n",
       "0                   0             2                1  \n",
       "1                  -2            -1                1  \n",
       "2                   0            -2               -1  \n",
       "3                   1             0                0  \n",
       "4                   1             2               -1  \n",
       "5                   0             0                1  \n",
       "6                   1             1               -1  \n",
       "7                   1             1                1  "
      ]
     },
     "execution_count": 2,
     "metadata": {},
     "output_type": "execute_result"
    }
   ],
   "source": [
    "df = pd.read_csv(\"programme_ratings.csv\")\n",
    "df"
   ]
  },
  {
   "cell_type": "code",
   "execution_count": 3,
   "id": "30ae43ad",
   "metadata": {},
   "outputs": [
    {
     "data": {
      "text/plain": [
       "array([[ 1,  1,  0,  0,  2,  1],\n",
       "       [ 2,  0,  1, -2, -1,  1],\n",
       "       [ 1,  2,  0,  0, -2, -1],\n",
       "       [-2, -2,  1,  1,  0,  0],\n",
       "       [ 0,  1, -1,  1,  2, -1],\n",
       "       [-1,  1,  1,  0,  0,  1],\n",
       "       [-2, -2, -1,  1,  1, -1],\n",
       "       [ 1,  1, -1,  1,  1,  1]], dtype=int64)"
      ]
     },
     "execution_count": 3,
     "metadata": {},
     "output_type": "execute_result"
    }
   ],
   "source": [
    "ratings_df = df.copy().iloc[:, 1:]\n",
    "ratings = ratings_df.to_numpy()\n",
    "ratings"
   ]
  },
  {
   "cell_type": "code",
   "execution_count": 4,
   "id": "1c582987",
   "metadata": {},
   "outputs": [
    {
     "data": {
      "text/plain": [
       "array([ 0.83333333,  0.16666667,  0.        , -0.33333333,  0.33333333,\n",
       "        0.33333333, -0.66666667,  0.66666667])"
      ]
     },
     "execution_count": 4,
     "metadata": {},
     "output_type": "execute_result"
    }
   ],
   "source": [
    "mean_vector = np.asfarray([sum(row)/len(row) for row in ratings])\n",
    "mean_vector"
   ]
  },
  {
   "cell_type": "code",
   "execution_count": 17,
   "id": "0c673fa9",
   "metadata": {
    "scrolled": true
   },
   "outputs": [
    {
     "name": "stdout",
     "output_type": "stream",
     "text": [
      "{'Maciej Garbacz': 51.134449497978274, 'Maciej Bober': 41.667286371890285, 'Tomasz Soróbka': 92.79685838439701, 'Greta Slivinskaitė': 94.84816052676035, 'Łukasz Graff': 66.34748847052455, 'Paula Wołkowska': 50.76847951640775}\n"
     ]
    }
   ],
   "source": [
    "vectors = dict()\n",
    "for column_name, column_data in ratings_df.iteritems():\n",
    "    vectors[column_name] = np.asfarray([num for num in column_data])\n",
    "\n",
    "def get_angle(v1, v2) -> float:\n",
    "    angle = np.arccos(np.dot(v1, v2) / (np.linalg.norm(v1) * np.linalg.norm(v2)))*180/pi\n",
    "    if angle > 180:\n",
    "        angle = 360 - angle\n",
    "    return angle\n",
    "\n",
    "def is_vector_zero(v) -> bool:\n",
    "    return all(num == 0 for num in v)\n",
    "    \n",
    "dot_products = dict()\n",
    "for person, vector in vectors.items():\n",
    "    dot_products[person] = get_angle(vector, mean_vector)\n",
    "        \n",
    "print(dot_products)"
   ]
  },
  {
   "cell_type": "markdown",
   "id": "873ad9b2",
   "metadata": {},
   "source": [
    "Most Average -> Greta\n",
    "Most Extreme -> Maciej"
   ]
  },
  {
   "cell_type": "code",
   "execution_count": 24,
   "id": "09665cb4",
   "metadata": {},
   "outputs": [
    {
     "name": "stdout",
     "output_type": "stream",
     "text": [
      "{'Maciej Garbacz': array([1., 2.]), 'Maciej Bober': array([1., 0.]), 'Tomasz Soróbka': array([0., 1.]), 'Greta Slivinskaitė': array([ 0., -2.]), 'Łukasz Graff': array([ 2., -1.]), 'Paula Wołkowska': array([1., 1.])}\n",
      "Maciej Bober\n"
     ]
    }
   ],
   "source": [
    "PREDICTION_RATINGS = [0, 0, None, None, None, None, None, None]\n",
    "rating_vector = np.asfarray([num for num in PREDICTION_RATINGS if num is not None])\n",
    "\n",
    "prediction_vectors = dict()\n",
    "\n",
    "prediction_vectors_with_zeros = dict()\n",
    "\n",
    "for person, vector in vectors.items():\n",
    "    prediction_vectors[person] = np.asfarray([\n",
    "        num \n",
    "        for num, prediction_num \n",
    "        in zip(vector, PREDICTION_RATINGS) \n",
    "        if prediction_num is not None\n",
    "    ])\n",
    "    \n",
    "    prediction_vectors_with_zeros[person] = prediction_vectors[person]\n",
    "    \n",
    "    if is_vector_zero(prediction_vectors[person]):\n",
    "        del prediction_vectors[person]\n",
    "        \n",
    "print(prediction_vectors_with_zeros)\n",
    "\n",
    "if is_vector_zero(rating_vector):\n",
    "    closest_person = min(\n",
    "        prediction_vectors_with_zeros.items(), \n",
    "        key=lambda x: np.linalg.norm(x[1])\n",
    "    )[0]\n",
    "else:\n",
    "    angles = {\n",
    "        person: get_angle(vector, rating_vector)\n",
    "        for person, vector\n",
    "        in prediction_vectors.items()\n",
    "    }\n",
    "    closest_person = min(angles.items(), key=lambda x: x[1])[0]\n",
    "    "
   ]
  },
  {
   "cell_type": "code",
   "execution_count": 8,
   "id": "6a93d2b9",
   "metadata": {},
   "outputs": [
    {
     "data": {
      "text/plain": [
       "'Maciej Bober'"
      ]
     },
     "execution_count": 8,
     "metadata": {},
     "output_type": "execute_result"
    }
   ],
   "source": [
    "closest_person"
   ]
  },
  {
   "cell_type": "code",
   "execution_count": 26,
   "id": "b4510e7a",
   "metadata": {},
   "outputs": [],
   "source": [
    "closest_person_vector = vectors[closest_person]"
   ]
  },
  {
   "cell_type": "code",
   "execution_count": 27,
   "id": "8d01e13e",
   "metadata": {},
   "outputs": [
    {
     "data": {
      "text/plain": [
       "[0, 0, 2.0, -2.0, 1.0, 1.0, -2.0, 1.0]"
      ]
     },
     "execution_count": 27,
     "metadata": {},
     "output_type": "execute_result"
    }
   ],
   "source": [
    "predicted_vector = [\n",
    "    closest_person_num \n",
    "    if prediction_num is None\n",
    "    else prediction_num\n",
    "    for closest_person_num, prediction_num \n",
    "    in zip(closest_person_vector, PREDICTION_RATINGS)\n",
    "]\n",
    "predicted_vector"
   ]
  },
  {
   "cell_type": "code",
   "execution_count": null,
   "id": "609e760a",
   "metadata": {},
   "outputs": [],
   "source": []
  }
 ],
 "metadata": {
  "kernelspec": {
   "display_name": "Python 3 (ipykernel)",
   "language": "python",
   "name": "python3"
  },
  "language_info": {
   "codemirror_mode": {
    "name": "ipython",
    "version": 3
   },
   "file_extension": ".py",
   "mimetype": "text/x-python",
   "name": "python",
   "nbconvert_exporter": "python",
   "pygments_lexer": "ipython3",
   "version": "3.9.13"
  }
 },
 "nbformat": 4,
 "nbformat_minor": 5
}
